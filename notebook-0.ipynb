{
 "cells": [
  {
   "cell_type": "markdown",
   "id": "6ca8075f",
   "metadata": {},
   "source": [
    "# OSMnx features demo"
   ]
  },
  {
   "cell_type": "code",
   "execution_count": null,
   "id": "dea1521a",
   "metadata": {},
   "outputs": [],
   "source": [
    "import networkx as nx\n",
    "import osmnx as ox\n",
    "\n",
    "%matplotlib inline\n",
    "ox.__version__"
   ]
  },
  {
   "cell_type": "markdown",
   "id": "52169dc8",
   "metadata": {},
   "source": [
    "# Working with street networks"
   ]
  },
  {
   "cell_type": "code",
   "execution_count": null,
   "id": "45b26789",
   "metadata": {},
   "outputs": [],
   "source": [
    "# download/model a street network for some city then visualize it \n",
    "# (bir şehir için bir cadde ağı indir/modelle ve ardından onu görselleştir)\n",
    "G = ox.graph_from_place(\"Alameda, CA, USA\", network_type=\"drive\")\n",
    "fig, ax = ox.plot_graph(G)"
   ]
  },
  {
   "cell_type": "code",
   "execution_count": null,
   "id": "352517c7",
   "metadata": {},
   "outputs": [],
   "source": [
    "# convert your MultiDiGraph to an undirected MultiGraph\n",
    "# (MultiDiGraph'ınızı yönlendirilmemiş bir MultiGraph'a dönüştürün)\n",
    "M = ox.utils_graph.get_undirected(G)\n",
    "\n",
    "# convert your MultiDiGraph to a DiGraph without parallel edges\n",
    "# (# MultiDiGraph'ınızı paralel kenarları olmayan bir DiGraph'a dönüştürün)\n",
    "D = ox.utils_graph.get_digraph(G)"
   ]
  },
  {
   "cell_type": "code",
   "execution_count": null,
   "id": "f172fc0d",
   "metadata": {},
   "outputs": [],
   "source": [
    "# you can convert your graph to node and edge GeoPandas GeoDataFrames\n",
    "# (grafiğinizi düğüm ve kenar GeoPandas GeoDataFrames'e dönüştürebilirsiniz)\n",
    "gdf_nodes, gdf_edges = ox.graph_to_gdfs(G)\n",
    "gdf_nodes.head()"
   ]
  },
  {
   "cell_type": "code",
   "execution_count": null,
   "id": "9d22144e",
   "metadata": {},
   "outputs": [],
   "source": [
    "gdf_edges.head()"
   ]
  },
  {
   "cell_type": "code",
   "execution_count": null,
   "id": "c968c214",
   "metadata": {},
   "outputs": [],
   "source": [
    "# convert node/edge GeoPandas GeoDataFrames to a NetworkX MultiDiGraph\n",
    "# (düğüm/uç GeoPandas GeoDataFrames'i bir NetworkX MultiDiGraph'a dönüştürün)\n",
    "G2 = ox.graph_from_gdfs(gdf_nodes, gdf_edges, graph_attrs=G.graph)"
   ]
  },
  {
   "cell_type": "markdown",
   "id": "2c3b4d96",
   "metadata": {},
   "source": [
    "# Basic street network stats (Temel sokak ağı istatistikleri)"
   ]
  },
  {
   "cell_type": "code",
   "execution_count": null,
   "id": "0ab92d68",
   "metadata": {},
   "outputs": [],
   "source": [
    "# what sized area does our network cover in square meters?\n",
    "# (Ağımız metrekare olarak ne kadarlık bir alanı kapsıyor?)\n",
    "G_proj = ox.project_graph(G)\n",
    "nodes_proj = ox.graph_to_gdfs(G_proj, edges=False)\n",
    "graph_area_m = nodes_proj.unary_union.convex_hull.area\n",
    "graph_area_m"
   ]
  },
  {
   "cell_type": "code",
   "execution_count": null,
   "id": "d34b08fa",
   "metadata": {},
   "outputs": [],
   "source": [
    "# show some basic stats about the network\n",
    "# (ağ hakkında bazı temel istatistikleri göster)\n",
    "ox.basic_stats(G_proj, area=graph_area_m, clean_int_tol=15)"
   ]
  },
  {
   "cell_type": "code",
   "execution_count": null,
   "id": "882b47e5",
   "metadata": {},
   "outputs": [],
   "source": [
    "# save graph to disk as geopackage (for GIS) or graphml file (for gephi etc)\n",
    "# (Grafiği coğrafi paket (GIS için) veya graphml dosyası (gephi vb. için) olarak diske kaydedin)\n",
    "ox.save_graph_geopackage(G, filepath=\"./data/mynetwork.gpkg\")\n",
    "ox.save_graphml(G, filepath=\"./data/mynetwork.graphml\")"
   ]
  },
  {
   "cell_type": "markdown",
   "id": "f955ab30",
   "metadata": {},
   "source": [
    "# Visualize street centrality (Cadde merkeziliğini görselleştirin)"
   ]
  },
  {
   "cell_type": "code",
   "execution_count": null,
   "id": "606edd2b",
   "metadata": {},
   "outputs": [],
   "source": [
    "# convert graph to line graph so edges become nodes and vice versa\n",
    "# (grafiği çizgi grafiğe dönüştürün, böylece kenarlar düğüm olur ve bunun tersi de geçerlidir)\n",
    "edge_centrality = nx.closeness_centrality(nx.line_graph(G))\n",
    "nx.set_edge_attributes(G, edge_centrality, \"edge_centrality\")"
   ]
  },
  {
   "cell_type": "code",
   "execution_count": null,
   "id": "66a55e61",
   "metadata": {},
   "outputs": [],
   "source": [
    "# color edges in original graph with closeness centralities from line graph\n",
    "# (çizgi grafiğinden yakınlık merkezleriyle orijinal grafikteki renkli kenarlar)\n",
    "ec = ox.plot.get_edge_colors_by_attr(G, \"edge_centrality\", cmap=\"inferno\")\n",
    "fig, ax = ox.plot_graph(G, edge_color=ec, edge_linewidth=2, node_size=0)"
   ]
  },
  {
   "cell_type": "markdown",
   "id": "db28e721",
   "metadata": {},
   "source": [
    "# Routing"
   ]
  },
  {
   "cell_type": "code",
   "execution_count": null,
   "id": "f8931b0a",
   "metadata": {},
   "outputs": [],
   "source": [
    "# impute missing edge speeds and calculate edge travel times with the speed module\n",
    "# (hız modülü ile eksik kenar hızlarını hesaplayın ve kenar hareket sürelerini hesaplayın)\n",
    "G = ox.speed.add_edge_speeds(G)\n",
    "G = ox.speed.add_edge_travel_times(G)"
   ]
  },
  {
   "cell_type": "code",
   "execution_count": null,
   "id": "b52931eb",
   "metadata": {},
   "outputs": [],
   "source": [
    "# get the nearest network nodes to two lat/lng points with the distance module\n",
    "# (mesafe modülü ile en yakın ağ düğümlerini iki lat/lng noktasına getirin)\n",
    "orig = ox.distance.nearest_nodes(G, X=-122.245846, Y=37.828903)\n",
    "dest = ox.distance.nearest_nodes(G, X=-122.215006, Y=37.812303)"
   ]
  },
  {
   "cell_type": "code",
   "execution_count": null,
   "id": "62681f35",
   "metadata": {},
   "outputs": [],
   "source": [
    "# find the shortest path between nodes, minimizing travel time, then plot it\n",
    "# (düğümler arasındaki en kısa yolu bulun, seyahat süresini en aza indirin, ardından çizin)\n",
    "route = ox.shortest_path(G, orig, dest, weight=\"travel_time\")\n",
    "fig, ax = ox.plot_graph_route(G, route, node_size=0)"
   ]
  },
  {
   "cell_type": "code",
   "execution_count": null,
   "id": "321c9afd",
   "metadata": {},
   "outputs": [],
   "source": [
    "# how long is our route in meters?\n",
    "# (rotamız metre olarak ne kadar uzun?)\n",
    "edge_lengths = ox.utils_graph.get_route_edge_attributes(G, route, \"length\")\n",
    "round(sum(edge_lengths))"
   ]
  },
  {
   "cell_type": "code",
   "execution_count": null,
   "id": "c30f1b2e",
   "metadata": {},
   "outputs": [],
   "source": [
    "# how far is it between these two nodes as the crow flies?\n",
    "# (bu iki düğüm arasında kuş uçuşu ne kadar mesafe var?)\n",
    "# use OSMnx's vectorized great-circle distance (haversine) function\n",
    "# (OSMnx'in vektörleştirilmiş büyük daire mesafesi (havesinüs) işlevini kullanın)\n",
    "orig_x = G.nodes[orig][\"x\"]\n",
    "orig_y = G.nodes[orig][\"y\"]\n",
    "dest_x = G.nodes[dest][\"x\"]\n",
    "dest_y = G.nodes[dest][\"y\"]\n",
    "round(ox.distance.great_circle_vec(orig_y, orig_x, dest_y, dest_x))"
   ]
  },
  {
   "cell_type": "code",
   "execution_count": null,
   "id": "3f98ad47",
   "metadata": {},
   "outputs": [],
   "source": [
    "# add elevation to nodes automatically, calculate edge grades, plot network\n",
    "# (düğümlere otomatik olarak yükseklik ekleyin, kenar derecelerini hesaplayın, ağı çizin)\n",
    "# you need a google elevation api key to run this cell!\n",
    "# (bu hücreyi çalıştırmak için bir google yükseklik api anahtarına ihtiyacınız var!)\n",
    "try:\n",
    "    from keys import google_elevation_api_key\n",
    "\n",
    "    G = ox.elevation.add_node_elevations_google(G, api_key='')\n",
    "    G = ox.elevation.add_edge_grades(G)\n",
    "    nc = ox.plot.get_node_colors_by_attr(G, \"elevation\", cmap=\"plasma\")\n",
    "    fig, ax = ox.plot_graph(G, node_color=nc, node_size=20, edge_linewidth=2, edge_color=\"#333\")\n",
    "except ImportError:\n",
    "    print(\"You need a google_elevation_api_key to run this cell.\")"
   ]
  },
  {
   "cell_type": "markdown",
   "id": "75dffed9",
   "metadata": {},
   "source": [
    "# Get networks other ways (Ağları başka yollarla edinin)"
   ]
  },
  {
   "cell_type": "code",
   "execution_count": null,
   "id": "ff599506",
   "metadata": {},
   "outputs": [],
   "source": [
    "# you can make query an unambiguous dict to help the geocoder find it\n",
    "# (coğrafi kodlayıcının bulmasına yardımcı olmak için sorguyu kesin bir ifade haline getirebilirsiniz)\n",
    "place = {\"city\": \"Manhattan\", \"state\": \"New York\", \"country\": \"USA\"}\n",
    "G = ox.graph_from_place(place, network_type=\"drive\", truncate_by_edge=True)\n",
    "fig, ax = ox.plot_graph(G, figsize=(10, 10), node_size=0, edge_color=\"y\", edge_linewidth=0.2)"
   ]
  },
  {
   "cell_type": "code",
   "execution_count": null,
   "id": "7018f76c",
   "metadata": {},
   "outputs": [],
   "source": [
    "# you can get networks anywhere in the world\n",
    "# (dünyanın herhangi bir yerindeki ağlara sahip olabilirsiniz)\n",
    "G = ox.graph_from_place(\"Sinalunga, Italy\", network_type=\"all\")\n",
    "fig, ax = ox.plot_graph(G, node_size=0, edge_linewidth=0.5)"
   ]
  },
  {
   "cell_type": "code",
   "execution_count": null,
   "id": "e83a3938",
   "metadata": {},
   "outputs": [],
   "source": [
    "# or get network by address, coordinates, bounding box, or any custom polygon\n",
    "# (veya adrese, koordinatlara, sınırlayıcı kutuya veya herhangi bir özel çokgene göre ağ elde edin)\n",
    "# ...useful when OSM just doesn't already have a polygon for the place you want\n",
    "# (... OSM'de istediğiniz yer için halihazırda bir çokgen olmadığında kullanışlıdır)\n",
    "\n",
    "wurster_hall = (37.870605, -122.254830)\n",
    "one_mile = 1609  # meters\n",
    "G = ox.graph_from_point(wurster_hall, dist=one_mile, network_type=\"drive\")\n",
    "fig, ax = ox.plot_graph(G, node_size=0)"
   ]
  },
  {
   "cell_type": "markdown",
   "id": "f7275345",
   "metadata": {},
   "source": [
    "# Get other networked infrastructure types (Diğer ağa bağlı altyapı türlerini edinin)"
   ]
  },
  {
   "cell_type": "code",
   "execution_count": null,
   "id": "4ad2c71d",
   "metadata": {},
   "outputs": [],
   "source": [
    "# get NY subway rail network \n",
    "# (NY metro demiryolu ağını edinin)\n",
    "G = ox.graph_from_place(\n",
    "    \"New York, New York, USA\",\n",
    "    retain_all=False,\n",
    "    truncate_by_edge=True,\n",
    "    simplify=True,\n",
    "    custom_filter='[\"railway\"~\"subway\"]',\n",
    ")\n",
    "\n",
    "fig, ax = ox.plot_graph(G, node_size=0, edge_color=\"w\", edge_linewidth=0.2)"
   ]
  },
  {
   "cell_type": "markdown",
   "id": "4b28be5c",
   "metadata": {},
   "source": [
    "# Get any geospatial entities' geometries and attributes (Herhangi bir jeo-uzamsal varlığın geometrilerini ve niteliklerini alın)"
   ]
  },
  {
   "cell_type": "code",
   "execution_count": null,
   "id": "2fbe1488",
   "metadata": {},
   "outputs": [],
   "source": [
    "# get all building footprints in some neighborhood\n",
    "# (bazı mahallelerdeki tüm bina ayak izlerini alın)\n",
    "place = \"Civic Center, Los Angeles, California\"\n",
    "tags = {\"building\": True}\n",
    "gdf = ox.geometries_from_place(place, tags)\n",
    "gdf.shape"
   ]
  },
  {
   "cell_type": "code",
   "execution_count": null,
   "id": "5058ec68",
   "metadata": {},
   "outputs": [],
   "source": [
    "fig, ax = ox.plot_footprints(gdf, figsize=(3, 3))"
   ]
  },
  {
   "cell_type": "code",
   "execution_count": null,
   "id": "256d883e",
   "metadata": {},
   "outputs": [],
   "source": [
    "# get all parks and bus stops in some neighborhood\n",
    "# (bazı mahallelerdeki tüm parkları ve otobüs duraklarını alın)\n",
    "tags = {\"leisure\": \"park\", \"highway\": \"bus_stop\"}\n",
    "gdf = ox.geometries_from_place(place, tags)\n",
    "gdf.shape"
   ]
  }
 ],
 "metadata": {
  "kernelspec": {
   "display_name": "Python 3 (ipykernel)",
   "language": "python",
   "name": "python3"
  },
  "language_info": {
   "codemirror_mode": {
    "name": "ipython",
    "version": 3
   },
   "file_extension": ".py",
   "mimetype": "text/x-python",
   "name": "python",
   "nbconvert_exporter": "python",
   "pygments_lexer": "ipython3",
   "version": "3.11.2"
  }
 },
 "nbformat": 4,
 "nbformat_minor": 5
}
