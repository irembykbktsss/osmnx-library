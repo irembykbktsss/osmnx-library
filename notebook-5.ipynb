{
 "cells": [
  {
   "cell_type": "markdown",
   "id": "9d8799f7",
   "metadata": {},
   "source": [
    "# Save/load street network models to/from disk "
   ]
  },
  {
   "cell_type": "code",
   "execution_count": 1,
   "id": "090bd90c",
   "metadata": {},
   "outputs": [
    {
     "data": {
      "text/plain": [
       "'1.3.0'"
      ]
     },
     "execution_count": 1,
     "metadata": {},
     "output_type": "execute_result"
    }
   ],
   "source": [
    "import osmnx as ox\n",
    "\n",
    "%matplotlib inline\n",
    "ox.__version__"
   ]
  },
  {
   "cell_type": "code",
   "execution_count": 2,
   "id": "1213ed10",
   "metadata": {},
   "outputs": [],
   "source": [
    "# get a network\n",
    "place = \"Piedmont, California, USA\"\n",
    "G = ox.graph_from_place(place, network_type=\"drive\")"
   ]
  },
  {
   "cell_type": "markdown",
   "id": "c80fda4b",
   "metadata": {},
   "source": [
    "# Shapefiles and GeoPackages for GIS"
   ]
  },
  {
   "cell_type": "code",
   "execution_count": 3,
   "id": "1d70ee00",
   "metadata": {},
   "outputs": [],
   "source": [
    "# save graph as a geopackage\n",
    "# you can similarly save it as a shapefile, if you prefer obsolete formats\n",
    "ox.save_graph_geopackage(G, filepath=\"./data/piedmont.gpkg\")"
   ]
  },
  {
   "cell_type": "markdown",
   "id": "e4f52b4a",
   "metadata": {},
   "source": [
    "# GraphML files for saving network and preserving topological detail"
   ]
  },
  {
   "cell_type": "code",
   "execution_count": 4,
   "id": "6b09da8d",
   "metadata": {},
   "outputs": [],
   "source": [
    "# save/load graph as a graphml file: this is the best way to save your model\n",
    "# for subsequent work later\n",
    "filepath = \"./data/piedmont.graphml\"\n",
    "ox.save_graphml(G, filepath)\n",
    "G = ox.load_graphml(filepath)"
   ]
  },
  {
   "cell_type": "code",
   "execution_count": 5,
   "id": "c506721b",
   "metadata": {},
   "outputs": [],
   "source": [
    "# if you want to work with your model in gephi, use gephi compatibility mode\n",
    "ox.save_graphml(G, filepath=filepath, gephi=True)"
   ]
  },
  {
   "cell_type": "markdown",
   "id": "c1122a64",
   "metadata": {},
   "source": [
    "# SVG file to work with in Adobe Illustrator"
   ]
  },
  {
   "cell_type": "code",
   "execution_count": 6,
   "id": "1cb81906",
   "metadata": {},
   "outputs": [],
   "source": [
    "# save street network as SVG\n",
    "fig, ax = ox.plot_graph(G, show=False, save=True, close=True, filepath=\"./images/piedmont.svg\")"
   ]
  },
  {
   "cell_type": "markdown",
   "id": "5a9a53ee",
   "metadata": {},
   "source": [
    "# Save points of interest or building footprints"
   ]
  },
  {
   "cell_type": "code",
   "execution_count": 9,
   "id": "f952cacd",
   "metadata": {},
   "outputs": [],
   "source": [
    "# get all \"amenities\" and save as a geopackage via geopandas\n",
    "gdf = ox.geometries_from_place(place, tags={\"amenity\": True})\n",
    "gdf = gdf.apply(lambda c: c.astype(str) if c.name != \"geometry\" else c, axis=0)\n",
    "gdf.to_file(\"./data/pois.gpkg\", driver=\"GPKG\")"
   ]
  },
  {
   "cell_type": "code",
   "execution_count": 10,
   "id": "95cdc274",
   "metadata": {},
   "outputs": [],
   "source": [
    "# get all building footprints and save as a geopackage via geopandas\n",
    "gdf = ox.geometries_from_place(place, tags={\"building\": True})\n",
    "gdf = gdf.apply(lambda c: c.astype(str) if c.name != \"geometry\" else c, axis=0)\n",
    "gdf.to_file(\"./data/building_footprints.gpkg\", driver=\"GPKG\")"
   ]
  },
  {
   "cell_type": "markdown",
   "id": "c7c3f4ce",
   "metadata": {},
   "source": [
    "# Save .osm XML files"
   ]
  },
  {
   "cell_type": "code",
   "execution_count": 13,
   "id": "f0d0de2d",
   "metadata": {},
   "outputs": [],
   "source": [
    "# save graph to disk as .osm xml file\n",
    "ox.settings.all_oneway = True\n",
    "ox.settings.log_console = True\n",
    "G = ox.graph_from_place(\"Piedmont, California, USA\", network_type=\"drive\")\n",
    "ox.save_graph_xml(G, filepath=\"./data/piedmont.osm\")"
   ]
  },
  {
   "cell_type": "code",
   "execution_count": null,
   "id": "aacd53a0",
   "metadata": {},
   "outputs": [],
   "source": []
  }
 ],
 "metadata": {
  "kernelspec": {
   "display_name": "Python 3 (ipykernel)",
   "language": "python",
   "name": "python3"
  },
  "language_info": {
   "codemirror_mode": {
    "name": "ipython",
    "version": 3
   },
   "file_extension": ".py",
   "mimetype": "text/x-python",
   "name": "python",
   "nbconvert_exporter": "python",
   "pygments_lexer": "ipython3",
   "version": "3.11.2"
  }
 },
 "nbformat": 4,
 "nbformat_minor": 5
}
